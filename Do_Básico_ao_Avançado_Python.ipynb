{
  "nbformat": 4,
  "nbformat_minor": 0,
  "metadata": {
    "colab": {
      "provenance": [],
      "authorship_tag": "ABX9TyPywUwHmXlvwtB9kiMTUaLA",
      "include_colab_link": true
    },
    "kernelspec": {
      "name": "python3",
      "display_name": "Python 3"
    },
    "language_info": {
      "name": "python"
    }
  },
  "cells": [
    {
      "cell_type": "markdown",
      "metadata": {
        "id": "view-in-github",
        "colab_type": "text"
      },
      "source": [
        "<a href=\"https://colab.research.google.com/github/Jonata-Garcia/Guia_Didatico_Python/blob/main/Do_B%C3%A1sico_ao_Avan%C3%A7ado_Python.ipynb\" target=\"_parent\"><img src=\"https://colab.research.google.com/assets/colab-badge.svg\" alt=\"Open In Colab\"/></a>"
      ]
    },
    {
      "cell_type": "code",
      "execution_count": null,
      "metadata": {
        "colab": {
          "base_uri": "https://localhost:8080/"
        },
        "id": "Tf5zJG0YrEnZ",
        "outputId": "212c861e-46f0-4bb9-e65d-1e2facc9eb4b"
      },
      "outputs": [
        {
          "output_type": "stream",
          "name": "stdout",
          "text": [
            "[1, 2, 3, 4]\n",
            "1\n",
            "2\n",
            "3\n",
            "4\n",
            "4\n",
            "10\n",
            "40\n",
            "100\n"
          ]
        }
      ],
      "source": [
        "L=[1,2,3,4]\n",
        "print (L)\n",
        "print(L[0])\n",
        "print(L[1])\n",
        "print(L[2])\n",
        "print(L[3])\n",
        "\n",
        "print(len(L))\n",
        "\n"
      ]
    },
    {
      "cell_type": "code",
      "source": [],
      "metadata": {
        "id": "cpTt9lrfqSEw"
      },
      "execution_count": null,
      "outputs": []
    },
    {
      "cell_type": "code",
      "source": [
        "J = [10,20,30,40]\n",
        "print(min(J))\n",
        "print(max(J))\n",
        "print(sum(J))\n",
        "J.append(100)\n",
        "print(J)\n",
        "del J[0]\n",
        "print(J)\n"
      ],
      "metadata": {
        "colab": {
          "base_uri": "https://localhost:8080/"
        },
        "id": "SAWVkVRztcmg",
        "outputId": "d848361a-557a-4621-bcd9-934ba87422e2"
      },
      "execution_count": null,
      "outputs": [
        {
          "output_type": "stream",
          "name": "stdout",
          "text": [
            "10\n",
            "40\n",
            "100\n",
            "[10, 20, 30, 40, 100]\n",
            "[20, 30, 40, 100]\n"
          ]
        }
      ]
    },
    {
      "cell_type": "code",
      "source": [
        "R = [3,5,2,4,1,0]\n",
        "R.sort()\n",
        "print(R)"
      ],
      "metadata": {
        "colab": {
          "base_uri": "https://localhost:8080/"
        },
        "id": "acgKU5DFwDJr",
        "outputId": "89d7eecb-45bd-43c4-a2b9-69340aa5159e"
      },
      "execution_count": null,
      "outputs": [
        {
          "output_type": "stream",
          "name": "stdout",
          "text": [
            "[0, 1, 2, 3, 4, 5]\n"
          ]
        }
      ]
    },
    {
      "cell_type": "code",
      "source": [
        "L1 = [0,1,2]\n",
        "L2 = [3,4,5]\n",
        "juncao = L1 + L2\n",
        "print(juncao)\n"
      ],
      "metadata": {
        "colab": {
          "base_uri": "https://localhost:8080/"
        },
        "id": "Tzg6kr7mwyyZ",
        "outputId": "0cdf6c18-4f6b-47c4-bf2e-58e5d0756097"
      },
      "execution_count": null,
      "outputs": [
        {
          "output_type": "stream",
          "name": "stdout",
          "text": [
            "[0, 1, 2, 3, 4, 5]\n"
          ]
        }
      ]
    },
    {
      "cell_type": "code",
      "source": [
        "L = [ 3, 'abacate',9.7, [5,6,3], \"Python\"]\n",
        "print(L[1:4]) #print da posicao 1 até 3\n",
        "print (L[2:]) #3 print da posição 2 até o fim da lista\n",
        "print (L[:4]) #print do inicio da lista ate a posição 3"
      ],
      "metadata": {
        "id": "XmkpQOs0xmic"
      },
      "execution_count": null,
      "outputs": []
    },
    {
      "cell_type": "code",
      "source": [
        "ErradicarPobreza = [ \"Mendingo Praça da sé \", \"carapicuiba, osasco \", \"Pobreza em geral \", \"pessoas com renda percapita maior que 10mil reais\"]\n",
        "\n",
        "del ErradicarPobreza[0:3]\n",
        "print(ErradicarPobreza)"
      ],
      "metadata": {
        "colab": {
          "base_uri": "https://localhost:8080/"
        },
        "id": "YykGAp8lybJi",
        "outputId": "c25916d1-6ce1-4f13-bbea-03fcc98670aa"
      },
      "execution_count": null,
      "outputs": [
        {
          "output_type": "stream",
          "name": "stdout",
          "text": [
            "['pessoas com renda percapita maior que 10mil reais']\n"
          ]
        }
      ]
    },
    {
      "cell_type": "code",
      "source": [
        "precos = {\"Lapis\":5.5,\"borracha\":7.0, \"caneta\":6.5}\n",
        "\n",
        "print(precos)\n",
        "print(precos. keys())\n",
        "print(precos. values())\n",
        "print(precos[\"Lapis\"])\n",
        "\n",
        "del precos[\"borracha\"]\n",
        "print(\"caneta\" in precos)\n",
        "print(\"caderno\" in precos)\n",
        "\n",
        "\n",
        "\n"
      ],
      "metadata": {
        "colab": {
          "base_uri": "https://localhost:8080/"
        },
        "id": "MIl1vHP73i1G",
        "outputId": "6e8149fe-ad3e-40c4-c71b-d58e894ae657"
      },
      "execution_count": null,
      "outputs": [
        {
          "output_type": "stream",
          "name": "stdout",
          "text": [
            "dict_keys(['Lapis', 'borracha', 'caneta'])\n",
            "dict_values([5.5, 7.0, 6.5])\n",
            "{'Lapis': 5.5, 'borracha': 7.0, 'caneta': 6.5}\n",
            "5.5\n",
            "True\n",
            "False\n"
          ]
        }
      ]
    },
    {
      "cell_type": "code",
      "source": [
        "animais = {\"gato\", \"cachorro\", \"lobo\", \"gato\"}\n",
        "print (\"peixe\" in animais)\n",
        "animais.add(\"peixe\")\n",
        "print (\"peixe\" in animais)\n",
        "print(len(animais))"
      ],
      "metadata": {
        "colab": {
          "base_uri": "https://localhost:8080/"
        },
        "id": "KI43AxtJ6Udj",
        "outputId": "9e03c2fa-3a87-4fe0-9749-23ec83481369"
      },
      "execution_count": null,
      "outputs": [
        {
          "output_type": "stream",
          "name": "stdout",
          "text": [
            "False\n",
            "True\n",
            "4\n"
          ]
        }
      ]
    },
    {
      "cell_type": "code",
      "source": [
        "tpl = (1,2,3,4,5,6)\n",
        "print(tpl)\n",
        "\n",
        "print(tpl[4])"
      ],
      "metadata": {
        "colab": {
          "base_uri": "https://localhost:8080/"
        },
        "id": "TTrjBuzz79aG",
        "outputId": "d78dc5c3-9f1e-4daa-d289-4e48f22a0e32"
      },
      "execution_count": null,
      "outputs": [
        {
          "output_type": "stream",
          "name": "stdout",
          "text": [
            "(1, 2, 3, 4, 5, 6)\n",
            "5\n"
          ]
        }
      ]
    },
    {
      "cell_type": "code",
      "source": [
        "def soma(a,b):\n",
        "  c = a + b\n",
        "  return c\n",
        "\n",
        "soma(3,2)\n",
        "print(soma(3,2))"
      ],
      "metadata": {
        "colab": {
          "base_uri": "https://localhost:8080/"
        },
        "id": "0_F3X7CJ8i62",
        "outputId": "a2696ff3-c402-46c4-ff0f-ab51b490d10e"
      },
      "execution_count": null,
      "outputs": [
        {
          "output_type": "stream",
          "name": "stdout",
          "text": [
            "5\n"
          ]
        }
      ]
    },
    {
      "cell_type": "code",
      "source": [
        "def leitura():\n",
        " nome = input(\"Digite seu nome:\")\n",
        " sobrenome = input(\"Digite seu sobrenome:\")\n",
        " nomeCompleto = nome + \" \" + sobrenome\n",
        " print (\"Seu nome comple é: \",nomeCompleto )\n",
        "\n",
        "leitura()"
      ],
      "metadata": {
        "colab": {
          "base_uri": "https://localhost:8080/"
        },
        "id": "GLSdPRAp9tnO",
        "outputId": "512ecfda-0ed6-48b9-97fb-83c29f3b0b98"
      },
      "execution_count": null,
      "outputs": [
        {
          "output_type": "stream",
          "name": "stdout",
          "text": [
            "Digite seu nome:Jonata\n",
            "Digite seu sobrenome:Garcia\n",
            "Seu nome comple é:  Jonata Garcia\n"
          ]
        }
      ]
    },
    {
      "cell_type": "code",
      "source": [
        "def potencia(a,b):\n",
        " c = a ** b\n",
        " return c\n",
        "\n",
        "X = int(input(\"digite um valor:\"))\n",
        "Y = int(input(\"Digite o valor de potência:\"))\n",
        "print(potencia(X,Y))\n",
        "\n",
        "\n"
      ],
      "metadata": {
        "colab": {
          "base_uri": "https://localhost:8080/"
        },
        "id": "geNmUGJe_SWy",
        "outputId": "1899c236-e8da-4334-f05a-b64354d94011"
      },
      "execution_count": null,
      "outputs": [
        {
          "output_type": "stream",
          "name": "stdout",
          "text": [
            "digite um valor:5\n",
            "Digite o valor de potência:5\n",
            "3125\n"
          ]
        }
      ]
    },
    {
      "cell_type": "code",
      "source": [
        "def soma(a,b):\n",
        " c = a + b\n",
        " return c\n",
        "\n",
        "X = float(input(\"digite um valor:\"))\n",
        "Y = float(input(\"Digite o valor\"))\n",
        "print(soma(X,Y))"
      ],
      "metadata": {
        "colab": {
          "base_uri": "https://localhost:8080/"
        },
        "id": "caXiXEP8CLTY",
        "outputId": "303dcfeb-a865-433e-a3a0-ceb455acb9e6"
      },
      "execution_count": null,
      "outputs": [
        {
          "output_type": "stream",
          "name": "stdout",
          "text": [
            "digite um valor:5\n",
            "Digite o valor2\n",
            "7.0\n"
          ]
        }
      ]
    },
    {
      "cell_type": "code",
      "source": [
        "nota = float(input(\"digite sua nota:\"))\n",
        "\n",
        "if nota < 7.0:\n",
        " print(\"REPROVADO\")\n",
        "\n",
        "else:\n",
        "  print(\" Parabens voce foi aprovado\")"
      ],
      "metadata": {
        "colab": {
          "base_uri": "https://localhost:8080/"
        },
        "id": "AINr2vQbC8lA",
        "outputId": "9774e4d2-950b-4925-ae0c-24cf35c3e6b0"
      },
      "execution_count": null,
      "outputs": [
        {
          "output_type": "stream",
          "name": "stdout",
          "text": [
            "digite su nota:7\n",
            " Parabens voce foi aprovado\n"
          ]
        }
      ]
    },
    {
      "cell_type": "code",
      "source": [
        "idade = int(input(\"Digite sua idade:\"))\n",
        "if idade < 3:\n",
        " print(\"Bebe\")\n",
        "elif idade < 10:\n",
        "  print(\"Infantil\")\n",
        "elif idade < 14:\n",
        "  print(\"Adolescente\")\n",
        "elif idade < 30:\n",
        "  print(\"Jovem\")\n",
        "elif idade < 50:\n",
        "  print(\"adulto\")\n",
        "else:\n",
        "  print(\"Idoso\")"
      ],
      "metadata": {
        "colab": {
          "base_uri": "https://localhost:8080/"
        },
        "id": "3jGO199aDt-a",
        "outputId": "e5f7efa7-2aef-40ad-ea9e-e28339e83e1a"
      },
      "execution_count": null,
      "outputs": [
        {
          "output_type": "stream",
          "name": "stdout",
          "text": [
            "Digite sua idade:40\n",
            "adulto\n"
          ]
        }
      ]
    },
    {
      "cell_type": "code",
      "source": [
        "senha = \"54321\"\n",
        "leitura = \" \"\n",
        "\n",
        "while (leitura != senha):\n",
        "  leitura = input (\"Digte a senha:\")\n",
        "  if leitura == senha: print (\"Acesso liberado\")\n",
        "  else: print (\"Senha incorreta. Tente novamente\")"
      ],
      "metadata": {
        "colab": {
          "base_uri": "https://localhost:8080/"
        },
        "id": "MGPS_EDkFHiq",
        "outputId": "5f206bcb-a628-4721-b68c-311d88a81737"
      },
      "execution_count": null,
      "outputs": [
        {
          "output_type": "stream",
          "name": "stdout",
          "text": [
            "Digte a senha:112\n",
            "Senha incorreta. Tente novamente\n",
            "Digte a senha:65465814\n",
            "Senha incorreta. Tente novamente\n",
            "Digte a senha:54321\n",
            "Acesso liberado\n"
          ]
        }
      ]
    },
    {
      "cell_type": "code",
      "source": [
        "contador = 0\n",
        "somador = 0\n",
        "while contador <5:\n",
        "  contador = contador + 1\n",
        "  valor = float(input('digite o '+str(contador)+ \" Valor: \"))\n",
        "  somador = somador + valor\n",
        "print(\"Soma = \", somador)"
      ],
      "metadata": {
        "colab": {
          "base_uri": "https://localhost:8080/"
        },
        "id": "FcesYnnuGZzA",
        "outputId": "0d84402a-7927-4ed4-f64c-f16b638d0ab5"
      },
      "execution_count": null,
      "outputs": [
        {
          "output_type": "stream",
          "name": "stdout",
          "text": [
            "digite o 1 Valor: 1\n",
            "digite o 2 Valor: 2\n",
            "digite o 3 Valor: 3\n",
            "digite o 4 Valor: 4\n",
            "digite o 5 Valor: 50\n",
            "Soma =  60.0\n"
          ]
        }
      ]
    },
    {
      "cell_type": "code",
      "source": [
        "Lista_notas=[3.4,6.6,8,9,10,99.5,8.8,4.3]\n",
        "soma=0\n",
        "for nota in Lista_notas:\n",
        "  soma = soma+nota\n",
        "média = soma+nota\n",
        "print ('Média = ', média)\n",
        "\n",
        "def CalcMedia(Lista):\n",
        "  soma=0\n",
        "  for nota in Lista:\n",
        "    soma = soma+nota\n",
        "    return soma/len(Lista)\n",
        "\n",
        "    Lista_notas= [3.4,6.6,8,9,10,99.5,8.8,4.3]\n",
        "    media = CalcMedia(Lista_notas)\n",
        "    print('Méda = ', media)"
      ],
      "metadata": {
        "colab": {
          "base_uri": "https://localhost:8080/"
        },
        "id": "SrX5yCEpwES9",
        "outputId": "b4bc8380-201d-473a-e074-f6c200d81851"
      },
      "execution_count": null,
      "outputs": [
        {
          "output_type": "stream",
          "name": "stdout",
          "text": [
            "Média =  153.90000000000003\n"
          ]
        }
      ]
    },
    {
      "cell_type": "code",
      "source": [
        "S=0\n",
        "for x in range(1,20,3):\n",
        "  S = S+x\n",
        "print('Soma = ',S)"
      ],
      "metadata": {
        "colab": {
          "base_uri": "https://localhost:8080/"
        },
        "id": "ex_NGPmw7aR9",
        "outputId": "7d5d8061-4190-4e85-8760-93002f8bd4ae"
      },
      "execution_count": null,
      "outputs": [
        {
          "output_type": "stream",
          "name": "stdout",
          "text": [
            "Soma =  100\n"
          ]
        }
      ]
    },
    {
      "cell_type": "code",
      "source": [
        "def categoria(idade):\n",
        "  ctg = \"\"\n",
        "  if idade <3:\n",
        "   ctg = 'bebe'\n",
        "  elif idade < 10:\n",
        "   ctg = 'infantil'\n",
        "  elif idade <18:\n",
        "   ctg = 'adolecente'\n",
        "  else:\n",
        "   ctg ='adulto'\n",
        "  return ctg\n",
        "\n",
        "idade = int(input(\"Digite sua idade\"))\n",
        "print(\"A sua categoria é:\",categoria(idade))\n"
      ],
      "metadata": {
        "colab": {
          "base_uri": "https://localhost:8080/"
        },
        "id": "085KHCYp_uPz",
        "outputId": "5bc0a212-7635-4dca-da28-9e02bba3a8d6"
      },
      "execution_count": null,
      "outputs": [
        {
          "output_type": "stream",
          "name": "stdout",
          "text": [
            "Digite sua idade21\n",
            "A sua categoria é: adulto\n"
          ]
        }
      ]
    },
    {
      "cell_type": "code",
      "source": [
        "def inclui(d):\n",
        "  nome = input(\"Digite um nome para incluir no perfil: \")\n",
        "  if nome in d:\n",
        "    print(\"Nome já existe não pode ser incluído\")\n",
        "  else:\n",
        "    fone = input(\"Digite o fone para incluir no perfil: \")\n",
        "    d[nome]= fone\n",
        "\n",
        "def consulta (d):\n",
        "  nome = input(\"Digite o nome do perfil que deseja consultar: \")\n",
        "  print (\"telefone \",d.get(nome, 'não disponível' ))\n",
        "\n",
        "def altera(d):\n",
        "  nome = input(\"Digite o nome do perfil que deseja alterar o fone: \")\n",
        "  print (\"telefone atual: \",d.get(nome, 'não disponível'))\n",
        "\n",
        "  if nome in d:\n",
        "    fone = input (\"Digite o novo fone para o perfil: \")\n",
        "    d[nome]=fone\n",
        "    print(\"Telefone alterado !\")\n",
        "  else:\n",
        "    print(\"telefone não pode ser alterado!\")\n",
        "\n",
        "def exclui(d):\n",
        "  nome = input(\"Digite o nome do perfil que deseja exclui: \")\n",
        "  if nome in d:\n",
        "    del d[nome]\n",
        "    print(\"Perfil (nome e fone) excluídos!\")\n",
        "  else:\n",
        "      print(\"Nome inexistente\")\n",
        "\n",
        "def monstra (d):\n",
        "  print (\"Agenda:\")\n",
        "  for nome in d.keys():\n",
        "    print(nome,d[nome])\n",
        "\n",
        "agenda = {}\n",
        "inclui(agenda)\n",
        "inclui(agenda)\n",
        "inclui(agenda)\n",
        "consulta(agenda)\n",
        "altera(agenda)\n",
        "exclui(agenda)\n",
        "mostra(agenda)\n",
        "\n",
        "agenda = {}\n",
        "opc = 10\n",
        "while opc !=0:\n",
        "   opc = int(input(\"0 - Sair, 1 - Incluir, 2 - Consultar, 3 - Alterar, 4 Excluir,5 - Mostrar:\"))\n",
        "if opc == 1:\n",
        "   inclui(agenda)\n",
        "elif opc ==2:\n",
        "   consulta(agenda)\n",
        "elif opc==3:\n",
        "  alterado(agenda)\n",
        "elif opc == 4:\n",
        "   exclui(agenda)\n",
        "elif opc == 0:\n",
        "  print(\"bye!\")\n",
        "else:\n",
        "  print(\"Opções inválida !\")"
      ],
      "metadata": {
        "id": "Cpw_NRMCCxZH",
        "colab": {
          "base_uri": "https://localhost:8080/",
          "height": 475
        },
        "outputId": "4f9e4cc1-8f12-4633-dd56-230ae06f8470"
      },
      "execution_count": 1,
      "outputs": [
        {
          "output_type": "stream",
          "name": "stdout",
          "text": [
            "Digite um nome para incluir no perfil: Jonata\n",
            "Digite o fone para incluir no perfil: 11 958751362\n",
            "Digite um nome para incluir no perfil: Isabela\n",
            "Digite o fone para incluir no perfil: 11 96365372\n",
            "Digite um nome para incluir no perfil: dfolvcmlfm\n",
            "Digite o fone para incluir no perfil: fçldvmçdf[\n",
            "Digite o nome do perfil que deseja consultar: jonata\n",
            "telefone  não disponível\n",
            "Digite o nome do perfil que deseja alterar o fone: Isabela\n",
            "telefone atual:  11 96365372\n",
            "Digite o novo fone para o perfil: 11 7846746t736547\n",
            "Telefone alterado !\n",
            "Digite o nome do perfil que deseja exclui: Jpnata\n",
            "Nome inexistente\n"
          ]
        },
        {
          "output_type": "error",
          "ename": "NameError",
          "evalue": "name 'mostra' is not defined",
          "traceback": [
            "\u001b[0;31m---------------------------------------------------------------------------\u001b[0m",
            "\u001b[0;31mNameError\u001b[0m                                 Traceback (most recent call last)",
            "\u001b[0;32m/tmp/ipython-input-2610995259.py\u001b[0m in \u001b[0;36m<cell line: 0>\u001b[0;34m()\u001b[0m\n\u001b[1;32m     42\u001b[0m \u001b[0maltera\u001b[0m\u001b[0;34m(\u001b[0m\u001b[0magenda\u001b[0m\u001b[0;34m)\u001b[0m\u001b[0;34m\u001b[0m\u001b[0;34m\u001b[0m\u001b[0m\n\u001b[1;32m     43\u001b[0m \u001b[0mexclui\u001b[0m\u001b[0;34m(\u001b[0m\u001b[0magenda\u001b[0m\u001b[0;34m)\u001b[0m\u001b[0;34m\u001b[0m\u001b[0;34m\u001b[0m\u001b[0m\n\u001b[0;32m---> 44\u001b[0;31m \u001b[0mmostra\u001b[0m\u001b[0;34m(\u001b[0m\u001b[0magenda\u001b[0m\u001b[0;34m)\u001b[0m\u001b[0;34m\u001b[0m\u001b[0;34m\u001b[0m\u001b[0m\n\u001b[0m\u001b[1;32m     45\u001b[0m \u001b[0;34m\u001b[0m\u001b[0m\n\u001b[1;32m     46\u001b[0m \u001b[0magenda\u001b[0m \u001b[0;34m=\u001b[0m \u001b[0;34m{\u001b[0m\u001b[0;34m}\u001b[0m\u001b[0;34m\u001b[0m\u001b[0;34m\u001b[0m\u001b[0m\n",
            "\u001b[0;31mNameError\u001b[0m: name 'mostra' is not defined"
          ]
        }
      ]
    },
    {
      "cell_type": "code",
      "source": [
        "import numpy as np\n",
        "\n",
        "a = np.array([12,34,26,18,10])\n",
        "\n",
        "print(a)\n",
        "print(a.dtype)\n",
        "\n",
        "\n",
        "a1 = np.array([1,2,3], dtype = np.float64) # cria o array como float de 64 bits\n",
        "\n",
        "print(a1)\n",
        "print(a1.dtype)\n",
        "\n",
        "\n",
        "a2 = np.array([1,2,3], dtype = np.int32)  # cria o array como float de 64 bits\n",
        "\n",
        "print(a2)\n",
        "print(a2.dtype)\n",
        "\n",
        "\n",
        "a3 = np.array([1.4, 3.6, -5.1, 9.42, 4.99999999 ]) # Podemos transformar tipos de dados de arrays\n",
        "\n",
        "print(a3)\n",
        "print(a3.dtype) # Mostra array([1.4, 3.6, -5.1, 9.42, 4.999999])\n",
        "\n",
        "a4 = a3.astype(np.int32) # quando transformamos de float para int os valores são truncados\n",
        "\n",
        "print(a4)\n",
        "print(a4.dtype)\n",
        "\n",
        "\n",
        "a5 = np.array([1,2,3,4]) # Mostra array([ 1, 3, -5, 9, 4])\n",
        "\n",
        "print(a5)\n",
        "print(a5.dtype)\n",
        "\n",
        "a6 = a5.astype(float) # podemos fazer o inverso também.\n",
        "\n",
        "print(a6)\n",
        "print(a6.dtype)\n",
        "# Mostra array([1., 2., 3., 4.])\n"
      ],
      "metadata": {
        "colab": {
          "base_uri": "https://localhost:8080/"
        },
        "id": "u_W1L43Zqhmm",
        "outputId": "c93f0a6f-e9fe-43aa-ca83-d07e93fe3056"
      },
      "execution_count": null,
      "outputs": [
        {
          "output_type": "stream",
          "name": "stdout",
          "text": [
            "[12 34 26 18 10]\n",
            "int64\n",
            "[1. 2. 3.]\n",
            "float64\n",
            "[1 2 3]\n",
            "int32\n",
            "[ 1.4         3.6        -5.1         9.42        4.99999999]\n",
            "float64\n",
            "[ 1  3 -5  9  4]\n",
            "int32\n",
            "[1 2 3 4]\n",
            "int64\n",
            "[1. 2. 3. 4.]\n",
            "float64\n"
          ]
        }
      ]
    },
    {
      "cell_type": "code",
      "source": [
        "b = np.array([[7,2,23],[12,27,4],[5,34,23]])\n",
        "# cria um matriz bidimensional\n",
        "print(b)\n",
        "\n",
        "import numpy as np\n",
        "c = np.empty([3,2], dtype = int)\n",
        "print (c)\n",
        "\n",
        "d = np.zeros([4,3])\n",
        "# cria uma matriz 4x3 com valores zero\n",
        "print(d)\n",
        "\n",
        "e = np.ones([5,7])\n",
        "# cria uma matriz de 5x7 com valores 1\n",
        "print(e)\n",
        "\n",
        "f = np.eye(5)\n",
        "# cria matriz quadrada com diagonal principal com valores 1 e os outros valores zero\n",
        "print(f)\n",
        "\n",
        "g2= np.random.randn((5))\n",
        "print(g2)\n",
        "\n",
        "h = np.floor(10*np.random.random((3,4)))\n",
        "print(h)\n",
        "h = (10*np.random.random((3,4)))\n",
        "print(h)\n",
        "h = np.floor(h)\n",
        "print(h)\n",
        "\n",
        "gnr = np.random.default_rng(0)\n",
        "i = gnr.random(3)\n",
        "print (i)\n",
        "\n",
        "i = gnr.integers(10, size=(3, 4))\n",
        "print(i)\n",
        "\n",
        "j = np.array([11, 12, 13, 14, 15, 16, 17, 12, 13, 11, 18, 19, 20])\n",
        "j = np.unique(j)\n",
        "print(j)\n",
        "\n",
        "k = np.array([[17,22,43],[27,25,14],[15,24,32]])\n",
        "# cria a matriz bidimensional k\n",
        "print(k)\n",
        "# Mostra a matriz k\n",
        "print(k[0][1])\n",
        "# Mostra um elemento específico da matriz k\n",
        "print(k.shape)\n",
        "# Mostra o tamanho das dimensões da matriz k\n",
        "print(k.max())\n",
        "# Mostra o maior valor da matriz k\n",
        "print(k.min())\n",
        "# Mostra o menor valor da matriz k\n",
        "print((k.sum()))\n",
        "# Mostra a soma dos valores da matriz k\n",
        "print(k.mean())\n",
        "# Mostra o valor da média dos valores da matriz k\n",
        "print(k.std())\n",
        "\n",
        "k1 = np.array([1, 4, 9, 16, 25, 36])\n",
        "print(np.sqrt(k1))\n",
        "# Mostra o valor da raiz quadrada de todos elementos\n",
        "print(np.exp(k1))\n",
        "# Mostra o valor do exponencial de todos elementos\n",
        "\n",
        "\n"
      ],
      "metadata": {
        "colab": {
          "base_uri": "https://localhost:8080/"
        },
        "id": "FpnZFWtjvO7J",
        "outputId": "a40eb050-1ebd-4d4a-9da4-554d8fb8fcf9"
      },
      "execution_count": null,
      "outputs": [
        {
          "output_type": "stream",
          "name": "stdout",
          "text": [
            "[[ 7  2 23]\n",
            " [12 27  4]\n",
            " [ 5 34 23]]\n",
            "[[ 95501028866456               0]\n",
            " [132338713334320 132338385183152]\n",
            " [132338385183216 132338385183280]]\n",
            "[[0. 0. 0.]\n",
            " [0. 0. 0.]\n",
            " [0. 0. 0.]\n",
            " [0. 0. 0.]]\n",
            "[[1. 1. 1. 1. 1. 1. 1.]\n",
            " [1. 1. 1. 1. 1. 1. 1.]\n",
            " [1. 1. 1. 1. 1. 1. 1.]\n",
            " [1. 1. 1. 1. 1. 1. 1.]\n",
            " [1. 1. 1. 1. 1. 1. 1.]]\n",
            "[[1. 0. 0. 0. 0.]\n",
            " [0. 1. 0. 0. 0.]\n",
            " [0. 0. 1. 0. 0.]\n",
            " [0. 0. 0. 1. 0.]\n",
            " [0. 0. 0. 0. 1.]]\n",
            "[-0.41010105 -1.22950552  0.60258487 -0.38636955  1.38761621]\n",
            "[[1. 4. 2. 9.]\n",
            " [7. 3. 2. 0.]\n",
            " [6. 9. 8. 8.]]\n",
            "[[0.51687249 5.37273014 8.94847604 7.38607177]\n",
            " [0.03483012 2.92636578 7.85699505 4.68529309]\n",
            " [3.02066631 3.86244647 7.29197384 1.60920166]]\n",
            "[[0. 5. 8. 7.]\n",
            " [0. 2. 7. 4.]\n",
            " [3. 3. 7. 1.]]\n",
            "[0.63696169 0.26978671 0.04097352]\n",
            "[[0 0 1 8]\n",
            " [6 9 5 6]\n",
            " [9 7 6 5]]\n",
            "[11 12 13 14 15 16 17 18 19 20]\n",
            "[[17 22 43]\n",
            " [27 25 14]\n",
            " [15 24 32]]\n",
            "22\n",
            "(3, 3)\n",
            "43\n",
            "14\n",
            "219\n",
            "24.333333333333332\n",
            "8.615231988880057\n",
            "[1. 2. 3. 4. 5. 6.]\n",
            "[2.71828183e+00 5.45981500e+01 8.10308393e+03 8.88611052e+06\n",
            " 7.20048993e+10 4.31123155e+15]\n"
          ]
        }
      ]
    },
    {
      "cell_type": "code",
      "source": [
        "l = np.array([[4, 5], [6, 1], [7, 4]])\n",
        "print(l)\n",
        "l_linha_1 = l[0, :]\n",
        "print(l_linha_1)\n",
        "l_linha_2 = l[1, :]\n",
        "print(l_linha_2)\n",
        "l_linha_3 = l[2, :]\n",
        "print(l_linha_3)\n",
        "l_coluna_1 = l[:, 0]\n",
        "print(l_coluna_1)\n",
        "l_coluna_2 = l[:, 1]\n",
        "print(l_coluna_2)"
      ],
      "metadata": {
        "colab": {
          "base_uri": "https://localhost:8080/"
        },
        "id": "QKkz_wlGCsQ0",
        "outputId": "f14da36c-2741-4fd0-fdb6-925e78860cb6"
      },
      "execution_count": null,
      "outputs": [
        {
          "output_type": "stream",
          "name": "stdout",
          "text": [
            "[[4 5]\n",
            " [6 1]\n",
            " [7 4]]\n",
            "[4 5]\n",
            "[6 1]\n",
            "[7 4]\n",
            "[4 6 7]\n",
            "[5 1 4]\n"
          ]
        }
      ]
    },
    {
      "cell_type": "code",
      "source": [
        "m = np.array([1, 2, 3, 4, 5, 6])\n",
        "print(m[1])\n",
        "# Mostra o elemento da posição 2\n",
        "print(m[0:2])\n",
        "# Mostra o array criado a partir da posição 0, dois elementos\n",
        "print(m[1:])\n",
        "# Mostra o array criado a partir da 2a posição\n",
        "# até todo o restante do array\n",
        "print(m[-3:])\n",
        "# Mostra o array criado a partir da antepenúltima\n",
        "#posição até o final"
      ],
      "metadata": {
        "colab": {
          "base_uri": "https://localhost:8080/"
        },
        "id": "dkHpQl3YDVKG",
        "outputId": "01e2910e-d2f2-45bb-d018-e1679f0d6211"
      },
      "execution_count": null,
      "outputs": [
        {
          "output_type": "stream",
          "name": "stdout",
          "text": [
            "2\n",
            "[1 2]\n",
            "[2 3 4 5 6]\n",
            "[4 5 6]\n"
          ]
        }
      ]
    },
    {
      "cell_type": "code",
      "source": [
        "n = np.array([[1, 2], [3, 4]])\n",
        "\n",
        "o = np.array([[1, 1], [1, 1]])\n",
        "res1 = n+o\n",
        "print(res1)\n",
        "res2 = n*o\n",
        "print(res2)"
      ],
      "metadata": {
        "id": "rxXouRqgDfqW"
      },
      "execution_count": null,
      "outputs": []
    },
    {
      "cell_type": "code",
      "source": [
        "r = np.arange(15).reshape((3, 5))\n",
        "# rearranja um conjunto de 15 elementos de 0 a 14 em 3 linhas e 5 colunas.\n",
        "print(r)\n",
        "# mostra a matrizes transposta entre linha e coluna\n",
        "s = r.T\n",
        "print(s)"
      ],
      "metadata": {
        "colab": {
          "base_uri": "https://localhost:8080/",
          "height": 140
        },
        "id": "61c9dEG6DhVd",
        "outputId": "77909551-0c7d-4a09-8c1c-2ff007a50117"
      },
      "execution_count": null,
      "outputs": [
        {
          "output_type": "error",
          "ename": "SyntaxError",
          "evalue": "ignored",
          "traceback": [
            "\u001b[0;36m  File \u001b[0;32m\"<ipython-input-12-6400d8b33228>\"\u001b[0;36m, line \u001b[0;32m3\u001b[0m\n\u001b[0;31m    olunas.\u001b[0m\n\u001b[0m           ^\u001b[0m\n\u001b[0;31mSyntaxError\u001b[0m\u001b[0;31m:\u001b[0m invalid syntax\n"
          ]
        }
      ]
    },
    {
      "cell_type": "code",
      "source": [
        "r = np.arange(15).reshape((3, 5))\n",
        "# rearranja um conjunto de 15 elementos de 0 a 14 em 3 linhas e 5 colunas.\n",
        "print(r)\n",
        "# mostra a matrizes transposta entre linha e coluna\n",
        "s = r.transpose((1,0))\n",
        "print(s)"
      ],
      "metadata": {
        "colab": {
          "base_uri": "https://localhost:8080/"
        },
        "id": "L35BB7MLDvUF",
        "outputId": "f7f7de0c-cf98-4eed-c931-8ba9f5f4c102"
      },
      "execution_count": null,
      "outputs": [
        {
          "output_type": "stream",
          "name": "stdout",
          "text": [
            "[[ 0  1  2  3  4]\n",
            " [ 5  6  7  8  9]\n",
            " [10 11 12 13 14]]\n",
            "[[ 0  5 10]\n",
            " [ 1  6 11]\n",
            " [ 2  7 12]\n",
            " [ 3  8 13]\n",
            " [ 4  9 14]]\n"
          ]
        }
      ]
    },
    {
      "cell_type": "code",
      "source": [
        "t = np.arange(16).reshape((2, 2, 4))\n",
        "print(t)\n",
        "u = t.swapaxes(1, 2)\n",
        "print(u)"
      ],
      "metadata": {
        "colab": {
          "base_uri": "https://localhost:8080/"
        },
        "id": "SJ4JZP00D5dc",
        "outputId": "0ef1000e-8384-420f-b3ec-b5a7d67c5892"
      },
      "execution_count": null,
      "outputs": [
        {
          "output_type": "stream",
          "name": "stdout",
          "text": [
            "[[[ 0  1  2  3]\n",
            "  [ 4  5  6  7]]\n",
            "\n",
            " [[ 8  9 10 11]\n",
            "  [12 13 14 15]]]\n",
            "[[[ 0  4]\n",
            "  [ 1  5]\n",
            "  [ 2  6]\n",
            "  [ 3  7]]\n",
            "\n",
            " [[ 8 12]\n",
            "  [ 9 13]\n",
            "  [10 14]\n",
            "  [11 15]]]\n"
          ]
        }
      ]
    },
    {
      "cell_type": "code",
      "source": [
        "v = np.random.randn(4, 4)\n",
        "print(v)\n",
        "# criando matriz com valores aleatórios positivos e negativos\n",
        "x = (v > 0)\n",
        "# criando matriz com valores booleanos baseado no array v\n",
        "print(x)\n",
        "z = np.where(x > 0, 1, -1)\n",
        "# criando matriz com valores -1 e 1 baseado nos valores do array x\n",
        "print(z)"
      ],
      "metadata": {
        "colab": {
          "base_uri": "https://localhost:8080/"
        },
        "id": "XyjdNfBMD7gs",
        "outputId": "17925f7c-791b-40d0-d833-38a66d489b09"
      },
      "execution_count": null,
      "outputs": [
        {
          "output_type": "stream",
          "name": "stdout",
          "text": [
            "[[-1.58415831e+00  1.16442730e+00 -8.61258476e-01  8.40058533e-04]\n",
            " [-7.62006301e-02  4.91391452e-01 -2.96706592e-01 -5.49331446e-01]\n",
            " [-1.18140690e+00  2.15711472e+00 -7.35816384e-01  1.37050777e+00]\n",
            " [-3.29404097e-01 -4.91273434e-01 -1.06418973e+00 -1.71523920e-02]]\n",
            "[[False  True False  True]\n",
            " [False  True False False]\n",
            " [False  True False  True]\n",
            " [False False False False]]\n",
            "[[-1  1 -1  1]\n",
            " [-1  1 -1 -1]\n",
            " [-1  1 -1  1]\n",
            " [-1 -1 -1 -1]]\n"
          ]
        }
      ]
    }
  ]
}